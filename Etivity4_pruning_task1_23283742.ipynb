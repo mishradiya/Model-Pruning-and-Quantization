{
  "cells": [
    {
      "cell_type": "markdown",
      "id": "6b41e8e9",
      "metadata": {
        "id": "6b41e8e9"
      },
      "source": [
        "# Your Details"
      ]
    },
    {
      "cell_type": "markdown",
      "id": "dc7cf9aa",
      "metadata": {
        "id": "dc7cf9aa"
      },
      "source": [
        "Your Name: Divya Acharya"
      ]
    },
    {
      "cell_type": "markdown",
      "id": "3fe6e255",
      "metadata": {
        "id": "3fe6e255"
      },
      "source": [
        "Your ID Number: 23283742"
      ]
    },
    {
      "cell_type": "markdown",
      "id": "5857739d",
      "metadata": {
        "id": "5857739d"
      },
      "source": [
        "# Etivity Task 4 - Part 1: Pruning a TensorFlow/Keras Model exercise\n",
        "\n",
        "For this exercise, you will prune a simple convolutional neural network (CNN) trained on the Fashion MNIST dataset. The first section of this exercise is already completed (Parts 1-5). Your task is to perform pruning on this model uses the TF Model optimisations toolkit and report on the results.\n",
        "\n",
        "\n",
        "By the end of this notebook, you'll be able to:\n",
        "\n",
        "* Understand Pruning in TensorFlow\n",
        "* Prune a basic CNN using the TensorFlow Model optimisation framework\n",
        "* Analyse the model perfromance\n",
        "* Results analysis\n",
        "\n",
        "### Let's get started!\n",
        "**Start** with the design in sections [1], [2], [3], [4] and [5] for which code is provided - then proceed to section [6] to begin this model pruning exercise.\n",
        "\n",
        "    [1] Import data dependencies\n",
        "    [2] Load the Fashion MNIST dataset\n",
        "    [3] Prepocess the data\n",
        "    [4] Create and train the CNN model\n",
        "    [5] Evaluate the model performance\n",
        "    [6] Prune the network and analyse your results\n",
        "    \n",
        "   \n",
        "### Important Note on Submission\n",
        "\n",
        "There are code exercises to complete in this task.  Insert your code entries into the cell areas marked with the 'enter code here' text as below, so that grading can easily be assessed.\n",
        "\n",
        "\\### **ENTER CODE HERE**\n",
        "\n",
        "Please make sure you are not doing the following:\n",
        "\n",
        "1. You have not added any _extra_ `print` statement(s) in the assignment.\n",
        "2. You have not added any _extra_ code cell(s) in the assignment.\n",
        "3. You have not changed any of the function parameters.\n",
        "4. You are not using any global variables inside your graded exercises. Unless specifically instructed to do so, please refrain from it and use the local variables instead.\n",
        "5. You are not changing the assignment code where it is not required, like creating _extra_ variables."
      ]
    },
    {
      "cell_type": "markdown",
      "id": "20352a33",
      "metadata": {
        "id": "20352a33"
      },
      "source": [
        "### Installing the TensorFlow Model Optimisation toolkit\n",
        "\n",
        "You must first install it using pip (comment this out once you have done this)."
      ]
    },
    {
      "cell_type": "code",
      "execution_count": 2,
      "id": "7ff0d3ea",
      "metadata": {
        "colab": {
          "base_uri": "https://localhost:8080/"
        },
        "id": "7ff0d3ea",
        "outputId": "be4b1714-8b88-471d-f14e-782cd310299e"
      },
      "outputs": [
        {
          "name": "stdout",
          "output_type": "stream",
          "text": [
            "Collecting tensorflow-model-optimization\n",
            "  Downloading tensorflow_model_optimization-0.8.0-py2.py3-none-any.whl (242 kB)\n",
            "\u001b[2K     \u001b[90m━━━━━━━━━━━━━━━━━━━━━━━━━━━━━━━━━━━━━━━━\u001b[0m \u001b[32m242.5/242.5 kB\u001b[0m \u001b[31m3.4 MB/s\u001b[0m eta \u001b[36m0:00:00\u001b[0m\n",
            "\u001b[?25hRequirement already satisfied: absl-py~=1.2 in /usr/local/lib/python3.10/dist-packages (from tensorflow-model-optimization) (1.4.0)\n",
            "Requirement already satisfied: dm-tree~=0.1.1 in /usr/local/lib/python3.10/dist-packages (from tensorflow-model-optimization) (0.1.8)\n",
            "Requirement already satisfied: numpy~=1.23 in /usr/local/lib/python3.10/dist-packages (from tensorflow-model-optimization) (1.25.2)\n",
            "Requirement already satisfied: six~=1.14 in /usr/local/lib/python3.10/dist-packages (from tensorflow-model-optimization) (1.16.0)\n",
            "Installing collected packages: tensorflow-model-optimization\n",
            "Successfully installed tensorflow-model-optimization-0.8.0\n"
          ]
        }
      ],
      "source": [
        "pip install tensorflow-model-optimization"
      ]
    },
    {
      "cell_type": "code",
      "execution_count": 4,
      "id": "b6bfd70b",
      "metadata": {
        "colab": {
          "base_uri": "https://localhost:8080/"
        },
        "id": "b6bfd70b",
        "outputId": "9547ad1c-6396-4779-e0ff-8e66e2c15595"
      },
      "outputs": [
        {
          "name": "stdout",
          "output_type": "stream",
          "text": [
            "Requirement already satisfied: tensorflow in /usr/local/lib/python3.10/dist-packages (2.15.0)\n",
            "Collecting tensorflow\n",
            "  Downloading tensorflow-2.16.1-cp310-cp310-manylinux_2_17_x86_64.manylinux2014_x86_64.whl (589.8 MB)\n",
            "\u001b[2K     \u001b[91m━━━━━━━━━━━━━━━━━━━━━━━━━━━━━━━━━━━━━━━\u001b[0m\u001b[91m╸\u001b[0m \u001b[32m589.8/589.8 MB\u001b[0m \u001b[31m59.4 MB/s\u001b[0m eta \u001b[36m0:00:01\u001b[0m\n",
            "\u001b[?25h\u001b[31mERROR: Operation cancelled by user\u001b[0m\u001b[31m\n",
            "\u001b[0m"
          ]
        }
      ],
      "source": [
        "pip install --upgrade tensorflow tensorflow-model-optimization keras"
      ]
    },
    {
      "cell_type": "code",
      "execution_count": null,
      "id": "4bdc3415",
      "metadata": {
        "id": "4bdc3415"
      },
      "outputs": [],
      "source": [
        "import os\n",
        "os.environ[\"CUDA_VISIBLE_DEVICES\"] = \"-1\"  # Disables GPU acceleration"
      ]
    },
    {
      "cell_type": "markdown",
      "id": "f899d190",
      "metadata": {
        "id": "f899d190"
      },
      "source": [
        "## 1. Import the data dependencies"
      ]
    },
    {
      "cell_type": "code",
      "execution_count": 3,
      "id": "e206da44",
      "metadata": {
        "id": "e206da44",
        "scrolled": false
      },
      "outputs": [],
      "source": [
        "import tensorflow as tf\n",
        "from tensorflow.keras.datasets import fashion_mnist\n",
        "from tensorflow.keras.utils import to_categorical\n",
        "from tensorflow.keras.models import Sequential\n",
        "from tensorflow.keras.layers import Dense, Dropout, Flatten\n",
        "from tensorflow.keras.layers import Conv2D, MaxPooling2D\n",
        "import tensorflow_model_optimization as tfmot\n",
        "\n",
        "from sklearn.model_selection import train_test_split\n",
        "from sklearn.metrics import classification_report\n",
        "\n",
        "import numpy as np\n",
        "import pandas as pd\n",
        "import tempfile\n",
        "\n",
        "from matplotlib import pyplot as plt\n",
        "%matplotlib inline"
      ]
    },
    {
      "cell_type": "markdown",
      "id": "312973ed",
      "metadata": {
        "id": "312973ed"
      },
      "source": [
        "## 2. Load the dataset\n",
        "We will use the Fashion-MNIST dataset and view a random set of images from the dataset."
      ]
    },
    {
      "cell_type": "code",
      "execution_count": 5,
      "id": "a371d624",
      "metadata": {
        "colab": {
          "base_uri": "https://localhost:8080/"
        },
        "id": "a371d624",
        "outputId": "8f0d7b4d-e11a-49cc-c8df-857c10d908aa"
      },
      "outputs": [
        {
          "name": "stdout",
          "output_type": "stream",
          "text": [
            "Downloading data from https://storage.googleapis.com/tensorflow/tf-keras-datasets/train-labels-idx1-ubyte.gz\n",
            "29515/29515 [==============================] - 0s 0us/step\n",
            "Downloading data from https://storage.googleapis.com/tensorflow/tf-keras-datasets/train-images-idx3-ubyte.gz\n",
            "26421880/26421880 [==============================] - 1s 0us/step\n",
            "Downloading data from https://storage.googleapis.com/tensorflow/tf-keras-datasets/t10k-labels-idx1-ubyte.gz\n",
            "5148/5148 [==============================] - 0s 0us/step\n",
            "Downloading data from https://storage.googleapis.com/tensorflow/tf-keras-datasets/t10k-images-idx3-ubyte.gz\n",
            "4422102/4422102 [==============================] - 0s 0us/step\n"
          ]
        }
      ],
      "source": [
        "# Load Fashion MNIST dataset\n",
        "(X_train, y_train), (X_test, y_test) = fashion_mnist.load_data()"
      ]
    },
    {
      "cell_type": "markdown",
      "id": "de8a797f",
      "metadata": {
        "id": "de8a797f"
      },
      "source": [
        "Create a dictionary of all classes in the target - Note there are 10 classes in this dataset."
      ]
    },
    {
      "cell_type": "code",
      "execution_count": 6,
      "id": "d5f14c47",
      "metadata": {
        "colab": {
          "base_uri": "https://localhost:8080/"
        },
        "id": "d5f14c47",
        "outputId": "eb10229f-becb-4e16-d619-10fb7ff26ce7"
      },
      "outputs": [
        {
          "data": {
            "text/plain": [
              "{0: 'T-shirt',\n",
              " 1: 'Trouser',\n",
              " 2: 'Pullover',\n",
              " 3: 'Dress',\n",
              " 4: 'Code',\n",
              " 5: 'Sandal',\n",
              " 6: 'Shirt',\n",
              " 7: 'Sneaker',\n",
              " 8: 'Bag',\n",
              " 9: 'Ankle Boot'}"
            ]
          },
          "execution_count": 6,
          "metadata": {},
          "output_type": "execute_result"
        }
      ],
      "source": [
        "# Map for human readable class names\n",
        "class_names = ['T-shirt/top', 'Trouser', 'Pullover', 'Dress', 'Coat',\n",
        "               'Sandal', 'Shirt', 'Sneaker', 'Bag', 'Ankle boot']\n",
        "class_labels = pd.Series(['T-shirt', 'Trouser', 'Pullover', 'Dress', 'Code', 'Sandal', 'Shirt', 'Sneaker', 'Bag', 'Ankle Boot'])\n",
        "labels_dict = class_labels.to_dict()\n",
        "labels_dict"
      ]
    },
    {
      "cell_type": "markdown",
      "id": "8d98d523",
      "metadata": {
        "id": "8d98d523"
      },
      "source": [
        "Get 9 images at random from the training data, plot and fetch their corresponding labels from the training targets."
      ]
    },
    {
      "cell_type": "code",
      "execution_count": 7,
      "id": "eb8965df",
      "metadata": {
        "colab": {
          "base_uri": "https://localhost:8080/",
          "height": 829
        },
        "id": "eb8965df",
        "outputId": "1068ef18-f273-4818-e72c-146fc245934f"
      },
      "outputs": [
        {
          "data": {
            "image/png": "[encoded data removed]",
            "text/plain": [
              "<Figure size 1000x1000 with 9 Axes>"
            ]
          },
          "metadata": {},
          "output_type": "display_data"
        }
      ],
      "source": [
        "np.random.seed(11)\n",
        "plt.figure(figsize=(10, 10))\n",
        "for i, rand_num in enumerate(np.random.randint(0, len(X_train), 9)):\n",
        "    ax = plt.subplot(3, 3, i + 1)\n",
        "    plt.imshow(X_train[rand_num]), plt.axis('off')\n",
        "    plt.title(labels_dict[y_train[rand_num]])\n",
        "    plt.axis(\"off\")"
      ]
    },
    {
      "cell_type": "markdown",
      "id": "67185f06",
      "metadata": {
        "id": "67185f06"
      },
      "source": [
        "## 3. Data preprocessing\n",
        "Ensure the image data shape is 28x28x1, and then normalize all values between 0 and 1."
      ]
    },
    {
      "cell_type": "code",
      "execution_count": 8,
      "id": "5e318182",
      "metadata": {
        "id": "5e318182"
      },
      "outputs": [],
      "source": [
        "# Model configuration\n",
        "img_width, img_height = 28, 28\n",
        "no_classes = 10\n",
        "\n",
        "# Reshape data for CNN\n",
        "X_train = X_train.reshape(X_train.shape[0], img_width, img_height, 1)\n",
        "X_test = X_test.reshape(X_test.shape[0], img_width, img_height, 1)\n",
        "\n",
        "input_shape = (img_width, img_height, 1)\n",
        "\n",
        "# Parse numbers as floats\n",
        "X_train = X_train.astype('float32')\n",
        "X_test = X_test.astype('float32')\n",
        "\n",
        "# Normalize [0, 255] into [0, 1]\n",
        "X_train = X_train / 255\n",
        "X_test = X_test / 255\n",
        "\n",
        "# Convert target vectors to categorical targets\n",
        "y_train = to_categorical(y_train, no_classes)\n",
        "y_test =  to_categorical(y_test, no_classes)\n",
        "# Note np.argmax(y_test, axis=-1) returns original digit array"
      ]
    },
    {
      "cell_type": "markdown",
      "id": "15c11bb6",
      "metadata": {
        "id": "15c11bb6"
      },
      "source": [
        "Finally, we create a validation dataset using train_test_split()"
      ]
    },
    {
      "cell_type": "code",
      "execution_count": 9,
      "id": "9811246e",
      "metadata": {
        "colab": {
          "base_uri": "https://localhost:8080/"
        },
        "id": "9811246e",
        "outputId": "4adf2dbb-b226-42de-ad2f-4c6406e4ae04"
      },
      "outputs": [
        {
          "name": "stdout",
          "output_type": "stream",
          "text": [
            "Shape of data used for training, and shape of training targets : \n",
            "  (50000, 28, 28, 1) , (50000, 10)\n",
            "Shape of data used for validation, and shape of validation targets: \n",
            "  (10000, 28, 28, 1) , (10000, 10)\n",
            "Shape of data used for test, and shape of test targets: \n",
            "  (10000, 28, 28, 1) , (10000, 10)\n"
          ]
        }
      ],
      "source": [
        "X_train, X_valid, y_train, y_valid = train_test_split(X_train, y_train, test_size=0.16666)\n",
        "\n",
        "print('Shape of data used for training, and shape of training targets : \\n ', X_train.shape, ',', y_train.shape)\n",
        "print('Shape of data used for validation, and shape of validation targets: \\n ', X_valid.shape, ',', y_valid.shape)\n",
        "print('Shape of data used for test, and shape of test targets: \\n ', X_test.shape, ',', y_test.shape)"
      ]
    },
    {
      "cell_type": "markdown",
      "id": "6ef1638b",
      "metadata": {
        "id": "6ef1638b"
      },
      "source": [
        "## 4. Create and train the model"
      ]
    },
    {
      "cell_type": "code",
      "execution_count": 10,
      "id": "21083435",
      "metadata": {
        "colab": {
          "base_uri": "https://localhost:8080/"
        },
        "id": "21083435",
        "outputId": "c5b47765-9479-4dea-a114-35ace79595f8"
      },
      "outputs": [
        {
          "name": "stdout",
          "output_type": "stream",
          "text": [
            "Epoch 1/12\n",
            "1563/1563 [==============================] - 19s 7ms/step - loss: 0.4720 - accuracy: 0.8252 - val_loss: 0.3657 - val_accuracy: 0.8618\n",
            "Epoch 2/12\n",
            "1563/1563 [==============================] - 7s 4ms/step - loss: 0.3056 - accuracy: 0.8866 - val_loss: 0.2730 - val_accuracy: 0.9006\n",
            "Epoch 3/12\n",
            "1563/1563 [==============================] - 8s 5ms/step - loss: 0.2559 - accuracy: 0.9038 - val_loss: 0.2649 - val_accuracy: 0.9036\n",
            "Epoch 4/12\n",
            "1563/1563 [==============================] - 8s 5ms/step - loss: 0.2214 - accuracy: 0.9171 - val_loss: 0.2602 - val_accuracy: 0.9072\n",
            "Epoch 5/12\n",
            "1563/1563 [==============================] - 7s 5ms/step - loss: 0.1929 - accuracy: 0.9275 - val_loss: 0.2503 - val_accuracy: 0.9087\n",
            "Epoch 6/12\n",
            "1563/1563 [==============================] - 7s 5ms/step - loss: 0.1682 - accuracy: 0.9368 - val_loss: 0.2610 - val_accuracy: 0.9076\n",
            "Epoch 7/12\n",
            "1563/1563 [==============================] - 8s 5ms/step - loss: 0.1450 - accuracy: 0.9457 - val_loss: 0.2612 - val_accuracy: 0.9103\n",
            "Epoch 8/12\n",
            "1563/1563 [==============================] - 7s 5ms/step - loss: 0.1286 - accuracy: 0.9508 - val_loss: 0.2776 - val_accuracy: 0.9117\n",
            "Epoch 9/12\n",
            "1563/1563 [==============================] - 8s 5ms/step - loss: 0.1106 - accuracy: 0.9587 - val_loss: 0.3117 - val_accuracy: 0.9078\n",
            "Epoch 10/12\n",
            "1563/1563 [==============================] - 7s 4ms/step - loss: 0.0999 - accuracy: 0.9619 - val_loss: 0.3180 - val_accuracy: 0.9090\n",
            "Epoch 11/12\n",
            "1563/1563 [==============================] - 9s 6ms/step - loss: 0.0827 - accuracy: 0.9690 - val_loss: 0.3517 - val_accuracy: 0.9065\n",
            "Epoch 12/12\n",
            "1563/1563 [==============================] - 9s 6ms/step - loss: 0.0747 - accuracy: 0.9717 - val_loss: 0.3705 - val_accuracy: 0.9097\n"
          ]
        }
      ],
      "source": [
        "# Create the model\n",
        "model = Sequential()\n",
        "model.add(Conv2D(32, kernel_size=(3, 3), activation='relu', input_shape=input_shape))\n",
        "model.add(MaxPooling2D(pool_size=(2, 2)))\n",
        "model.add(Conv2D(64, kernel_size=(3, 3), activation='relu'))\n",
        "model.add(MaxPooling2D(pool_size=(2, 2)))\n",
        "model.add(Flatten())\n",
        "model.add(Dense(256, activation='relu'))\n",
        "model.add(Dense(100, activation='relu'))\n",
        "model.add(Dense(no_classes, activation='softmax'))\n",
        "\n",
        "\n",
        "# Compile the model\n",
        "model.compile(loss=tf.keras.losses.categorical_crossentropy,\n",
        "              optimizer=tf.keras.optimizers.Adam(),\n",
        "              metrics=['accuracy'])\n",
        "\n",
        "batch_size = 32\n",
        "no_epochs = 12\n",
        "\n",
        "# Fit data to model\n",
        "history = model.fit(X_train, y_train,\n",
        "          batch_size=batch_size,\n",
        "          epochs=no_epochs,\n",
        "          verbose=1,\n",
        "          validation_data=(X_valid,y_valid))"
      ]
    },
    {
      "cell_type": "markdown",
      "id": "2dcc9a6c",
      "metadata": {
        "id": "2dcc9a6c"
      },
      "source": [
        "## 5. Evaluate the model performance"
      ]
    },
    {
      "cell_type": "code",
      "execution_count": 11,
      "id": "fb55481c",
      "metadata": {
        "colab": {
          "base_uri": "https://localhost:8080/",
          "height": 498
        },
        "id": "fb55481c",
        "outputId": "ffb4addd-f8dd-4b42-b777-79f126180f8c"
      },
      "outputs": [
        {
          "data": {
            "image/png": "[encoded data removed]",
            "text/plain": [
              "<Figure size 600x500 with 1 Axes>"
            ]
          },
          "metadata": {},
          "output_type": "display_data"
        }
      ],
      "source": [
        "# Plot the performance\n",
        "plt.figure(figsize=(6, 5))\n",
        "plt.plot(history.history['accuracy'], color='r')\n",
        "plt.plot(history.history['val_accuracy'], color='b')\n",
        "plt.title('Model Accuracy', weight='bold', fontsize=16)\n",
        "plt.ylabel('accuracy', weight='bold', fontsize=14)\n",
        "plt.xlabel('epoch', weight='bold', fontsize=14)\n",
        "plt.ylim(0.5, 1)\n",
        "plt.xticks(weight='bold', fontsize=12)\n",
        "plt.yticks(weight='bold', fontsize=12)\n",
        "plt.legend(['train', 'val'], loc='upper left', prop={'size': 14})\n",
        "plt.grid(color = 'y', linewidth='0.5')\n",
        "plt.show()"
      ]
    },
    {
      "cell_type": "code",
      "execution_count": 13,
      "id": "16a51264",
      "metadata": {
        "colab": {
          "base_uri": "https://localhost:8080/"
        },
        "id": "16a51264",
        "outputId": "79734026-3fb3-4949-a292-75950c2424f5"
      },
      "outputs": [
        {
          "name": "stdout",
          "output_type": "stream",
          "text": [
            "313/313 [==============================] - 1s 2ms/step\n",
            "              precision    recall  f1-score   support\n",
            "\n",
            "     T-shirt       0.84      0.87      0.85      1000\n",
            "     Trouser       0.98      0.98      0.98      1000\n",
            "    Pullover       0.79      0.91      0.84      1000\n",
            "       Dress       0.90      0.91      0.91      1000\n",
            "        Code       0.90      0.80      0.85      1000\n",
            "      Sandal       0.99      0.96      0.97      1000\n",
            "       Shirt       0.77      0.68      0.72      1000\n",
            "     Sneaker       0.95      0.97      0.96      1000\n",
            "         Bag       0.97      0.98      0.97      1000\n",
            "  Ankle Boot       0.96      0.97      0.97      1000\n",
            "\n",
            "    accuracy                           0.90     10000\n",
            "   macro avg       0.90      0.90      0.90     10000\n",
            "weighted avg       0.90      0.90      0.90     10000\n",
            "\n"
          ]
        }
      ],
      "source": [
        "# Get Model Predictions for test data\n",
        "predictions = model.predict(X_test)\n",
        "print(classification_report(np.argmax(y_test, axis=-1), np.argmax(predictions, axis=-1),target_names=class_labels))"
      ]
    },
    {
      "cell_type": "markdown",
      "id": "6179ae33",
      "metadata": {
        "id": "6179ae33"
      },
      "source": [
        "### Test the model accuracy"
      ]
    },
    {
      "cell_type": "code",
      "execution_count": 15,
      "id": "8b265b63",
      "metadata": {
        "colab": {
          "base_uri": "https://localhost:8080/"
        },
        "id": "8b265b63",
        "outputId": "deb193af-e40a-49ee-bf53-4c5e6cdd38fd"
      },
      "outputs": [
        {
          "name": "stdout",
          "output_type": "stream",
          "text": [
            "Test loss: 0.38090819120407104 / Test accuracy: 0.9035999774932861\n"
          ]
        }
      ],
      "source": [
        "# Generate generalization metrics\n",
        "score = model.evaluate(X_test, y_test, verbose=0)\n",
        "print(f'Test loss: {score[0]} / Test accuracy: {score[1]}')"
      ]
    },
    {
      "cell_type": "markdown",
      "id": "194a65ec",
      "metadata": {
        "id": "194a65ec"
      },
      "source": [
        "### Save the model\n",
        "Make sure to store your model to a temporary file, so that you can compare the sizes of the original and the pruned model later:"
      ]
    },
    {
      "cell_type": "code",
      "execution_count": 16,
      "id": "fc0a95e0",
      "metadata": {
        "colab": {
          "base_uri": "https://localhost:8080/"
        },
        "id": "fc0a95e0",
        "outputId": "ff3baec2-3c7e-4329-9bb0-16dac0fe022a"
      },
      "outputs": [
        {
          "name": "stdout",
          "output_type": "stream",
          "text": [
            "Baseline model saved: /tmp/tmp_aghkn1f.h5\n"
          ]
        },
        {
          "name": "stderr",
          "output_type": "stream",
          "text": [
            "<ipython-input-16-b4e31d79b51b>:3: UserWarning: You are saving your model as an HDF5 file via `model.save()`. This file format is considered legacy. We recommend using instead the native Keras format, e.g. `model.save('my_model.keras')`.\n",
            "  tf.keras.models.save_model(model, keras_file, include_optimizer=False)\n"
          ]
        }
      ],
      "source": [
        "# Store file\n",
        "_, keras_file = tempfile.mkstemp('.h5')\n",
        "tf.keras.models.save_model(model, keras_file, include_optimizer=False)\n",
        "print(f'Baseline model saved: {keras_file}')"
      ]
    },
    {
      "cell_type": "markdown",
      "id": "26ac90ca",
      "metadata": {
        "id": "26ac90ca"
      },
      "source": [
        "## 6. Pruning exercise\n",
        "\n",
        "**Include your code in the cells below** where it states **### ENTER CODE HERE**\n",
        "\n",
        "### Configure the pruning process\n",
        "\n",
        "- Load functionality for adding pruning wrappers to make sure the model's layers are prunable.\n",
        "- Set the pruning configuration with the following:\n",
        "   1. Load the number of images used in the training set.\n",
        "   2. Compute the *end_step* of the pruning process using batch size, the number of images and the number of epochs.\n",
        "   3. Define the pruning operation using **pruning_params**. Initially set the model to be 50% sparse (50% zeros in weights) increasing to 80%. Begin at 0 and end at *end_step*.\n",
        "   4. Call the **prune_low_magnitude** functionality to generate the prunable model from the initial model and the defined **pruning_params**."
      ]
    },
    {
      "cell_type": "code",
      "execution_count": null,
      "id": "ff79fc06",
      "metadata": {
        "id": "ff79fc06"
      },
      "outputs": [],
      "source": [
        "### ENTER CODE HERE"
      ]
    },
    {
      "cell_type": "markdown",
      "id": "krvf-8VCZvmU",
      "metadata": {
        "id": "krvf-8VCZvmU"
      },
      "source": [
        "**Pruning Configuration:** Define parameters for pruning, such as the pruning schedule and sparsity levels. For example, we can use a polynomial decay schedule:"
      ]
    },
    {
      "cell_type": "code",
      "execution_count": 40,
      "id": "cl_S_BfeZp1e",
      "metadata": {
        "id": "cl_S_BfeZp1e"
      },
      "outputs": [],
      "source": [
        "### ENTER CODE HERE\n",
        "\n",
        "# Load the number of images used in the training set\n",
        "num_images_train = len(X_train)\n",
        "\n",
        "# Compute the end_step of the pruning process using batch size, the number of images, and the number of epochs\n",
        "pruning_epochs = 5\n",
        "validation_split = 0.2\n",
        "num_images = X_train.shape[0] * (1 - validation_split)\n",
        "end_step = np.ceil(num_images / batch_size).astype(np.int32) * pruning_epochs\n",
        "\n",
        "# Define pruning parameters\n",
        "pruning_params = {\n",
        "    'pruning_schedule': tfmot.sparsity.keras.PolynomialDecay(initial_sparsity=0.50,\n",
        "                                                             final_sparsity=0.80,\n",
        "                                                             begin_step=0,\n",
        "                                                             end_step=end_step,)\n",
        "}"
      ]
    },
    {
      "cell_type": "markdown",
      "id": "2VHajs_xaHIh",
      "metadata": {
        "id": "2VHajs_xaHIh"
      },
      "source": [
        "**Apply Pruning:** Utilize TensorFlow Model Optimization's pruning API to prune the model. This applies the specified pruning parameters to the model's layers:"
      ]
    },
    {
      "cell_type": "code",
      "execution_count": 41,
      "id": "PdXRwpTMaUTv",
      "metadata": {
        "colab": {
          "base_uri": "https://localhost:8080/"
        },
        "id": "PdXRwpTMaUTv",
        "outputId": "c7705f83-3f12-441f-e50d-ad2a3117cc5f"
      },
      "outputs": [
        {
          "name": "stdout",
          "output_type": "stream",
          "text": [
            "<keras.src.engine.sequential.Sequential object at 0x7a4498b72b30>\n"
          ]
        }
      ],
      "source": [
        "prune_low_magnitude = tfmot.sparsity.keras.prune_low_magnitude\n",
        "\n",
        "pruned_model = prune_low_magnitude(model, **pruning_params)\n",
        "\n",
        "# Check if the model is pruned successfully\n",
        "print(pruned_model)"
      ]
    },
    {
      "cell_type": "markdown",
      "id": "34575854",
      "metadata": {
        "id": "34575854"
      },
      "source": [
        "### Start the pruning process\n",
        "After configuring the pruning process, you need to recompile the model and start the pruning process. Use the **UpdatePruningStep** callback here, because it propagates optimizer activities to the pruning process."
      ]
    },
    {
      "cell_type": "code",
      "execution_count": 42,
      "id": "dFPEO7wYgtuw",
      "metadata": {
        "colab": {
          "base_uri": "https://localhost:8080/"
        },
        "id": "dFPEO7wYgtuw",
        "outputId": "e1f29983-3540-43f4-8587-2fa058f677c5"
      },
      "outputs": [
        {
          "name": "stdout",
          "output_type": "stream",
          "text": [
            "Epoch 1/10\n",
            "1563/1563 [==============================] - 16s 8ms/step - loss: 0.0342 - accuracy: 0.9874 - val_loss: 0.5562 - val_accuracy: 0.9089\n",
            "Epoch 2/10\n",
            "1563/1563 [==============================] - 12s 8ms/step - loss: 0.0169 - accuracy: 0.9940 - val_loss: 0.6271 - val_accuracy: 0.9097\n",
            "Epoch 3/10\n",
            "1563/1563 [==============================] - 13s 8ms/step - loss: 0.0126 - accuracy: 0.9960 - val_loss: 0.6284 - val_accuracy: 0.9112\n",
            "Epoch 4/10\n",
            "1563/1563 [==============================] - 12s 8ms/step - loss: 0.0095 - accuracy: 0.9972 - val_loss: 0.6718 - val_accuracy: 0.9122\n",
            "Epoch 5/10\n",
            "1563/1563 [==============================] - 12s 8ms/step - loss: 0.0109 - accuracy: 0.9963 - val_loss: 0.7004 - val_accuracy: 0.9081\n",
            "Epoch 6/10\n",
            "1563/1563 [==============================] - 12s 8ms/step - loss: 0.0096 - accuracy: 0.9968 - val_loss: 0.7093 - val_accuracy: 0.9085\n",
            "Epoch 7/10\n",
            "1563/1563 [==============================] - 12s 8ms/step - loss: 0.0084 - accuracy: 0.9969 - val_loss: 0.7483 - val_accuracy: 0.9097\n",
            "Epoch 8/10\n",
            "1563/1563 [==============================] - 12s 8ms/step - loss: 0.0079 - accuracy: 0.9973 - val_loss: 0.7838 - val_accuracy: 0.9061\n",
            "Epoch 9/10\n",
            "1563/1563 [==============================] - 12s 8ms/step - loss: 0.0079 - accuracy: 0.9973 - val_loss: 0.8015 - val_accuracy: 0.9087\n",
            "Epoch 10/10\n",
            "1563/1563 [==============================] - 13s 8ms/step - loss: 0.0092 - accuracy: 0.9969 - val_loss: 0.8088 - val_accuracy: 0.9086\n"
          ]
        }
      ],
      "source": [
        "### ENTER CODE HERE\n",
        "\n",
        "pruned_model.compile(optimizer='adam', loss=tf.keras.losses.categorical_crossentropy, metrics=['accuracy'])\n",
        "\n",
        "# Define the UpdatePruningStep callback\n",
        "callbacks = [\n",
        "    tfmot.sparsity.keras.UpdatePruningStep()\n",
        "]\n",
        "\n",
        "# Start the pruning process by fitting the pruned model with UpdatePruningStep callback\n",
        "pruned_history = pruned_model.fit(X_train, y_train, epochs=10, batch_size=32, callbacks=callbacks, validation_data=(X_test, y_test))"
      ]
    },
    {
      "cell_type": "code",
      "execution_count": 43,
      "id": "lfeKKeUuw1O9",
      "metadata": {
        "colab": {
          "base_uri": "https://localhost:8080/",
          "height": 498
        },
        "id": "lfeKKeUuw1O9",
        "outputId": "26cd009e-37f2-48c8-9270-00b59415265e"
      },
      "outputs": [
        {
          "data": {
            "image/png": "[encoded data removed]",
            "text/plain": [
              "<Figure size 600x500 with 1 Axes>"
            ]
          },
          "metadata": {},
          "output_type": "display_data"
        }
      ],
      "source": [
        "# Plot the performance\n",
        "plt.figure(figsize=(6, 5))\n",
        "plt.plot(pruned_history.history['accuracy'], color='r')\n",
        "plt.plot(pruned_history.history['val_accuracy'], color='b')\n",
        "plt.title('Model Accuracy', weight='bold', fontsize=16)\n",
        "plt.ylabel('accuracy', weight='bold', fontsize=14)\n",
        "plt.xlabel('epoch', weight='bold', fontsize=14)\n",
        "plt.ylim(0.5, 1)\n",
        "plt.xticks(weight='bold', fontsize=12)\n",
        "plt.yticks(weight='bold', fontsize=12)\n",
        "plt.legend(['train', 'val'], loc='upper left', prop={'size': 14})\n",
        "plt.grid(color = 'y', linewidth='0.5')\n",
        "plt.show()"
      ]
    },
    {
      "cell_type": "markdown",
      "id": "2e4f0659",
      "metadata": {
        "id": "2e4f0659"
      },
      "source": [
        "### Measure the pruning effectiveness\n",
        "\n",
        "- By measuring how much the performance has changed, compared to before pruning;\n",
        "- By measuring how much the model size has changed, compared to before pruning.\n"
      ]
    },
    {
      "cell_type": "code",
      "execution_count": 46,
      "id": "83269d37",
      "metadata": {
        "colab": {
          "base_uri": "https://localhost:8080/"
        },
        "id": "83269d37",
        "outputId": "a492722a-e84e-4a80-aecb-29d292b36672"
      },
      "outputs": [
        {
          "name": "stdout",
          "output_type": "stream",
          "text": [
            "313/313 [==============================] - 1s 3ms/step - loss: 0.8088 - accuracy: 0.9086\n",
            "313/313 [==============================] - 1s 3ms/step - loss: 0.8088 - accuracy: 0.9086\n",
            "Original Model Accuracy: 0.9085999727249146\n",
            "Pruned Model Accuracy: 0.9085999727249146\n",
            "Change in Accuracy: 0.0\n",
            "Original Model Size (Number of Parameters): 455382\n",
            "Pruned Model Size (Number of Parameters): 910315\n",
            "Change in Model Size (Number of Parameters): 454933\n"
          ]
        }
      ],
      "source": [
        "### ENTER CODE HERE\n",
        "\n",
        "# Performance Comparison\n",
        "original_model_performance = model.evaluate(X_test, y_test)\n",
        "pruned_model_performance = pruned_model.evaluate(X_test, y_test)\n",
        "\n",
        "original_accuracy = original_model_performance[1]\n",
        "pruned_accuracy = pruned_model_performance[1]\n",
        "\n",
        "print(\"Original Model Accuracy:\", original_accuracy)\n",
        "print(\"Pruned Model Accuracy:\", pruned_accuracy)\n",
        "\n",
        "performance_change = pruned_accuracy - original_accuracy\n",
        "print(\"Change in Accuracy:\", performance_change)\n",
        "\n",
        "# Model Size Comparison\n",
        "original_model_size = model.count_params()  # Counting the number of parameters\n",
        "pruned_model_size = pruned_model.count_params()\n",
        "\n",
        "print(\"Original Model Size (Number of Parameters):\", original_model_size)\n",
        "print(\"Pruned Model Size (Number of Parameters):\", pruned_model_size)\n",
        "\n",
        "size_change = pruned_model_size - original_model_size\n",
        "print(\"Change in Model Size (Number of Parameters):\", size_change)\n",
        "\n"
      ]
    },
    {
      "cell_type": "markdown",
      "id": "bbcffcf1",
      "metadata": {
        "id": "bbcffcf1"
      },
      "source": [
        "### Save/export the pruned model"
      ]
    },
    {
      "cell_type": "code",
      "execution_count": 45,
      "id": "f93cc88f",
      "metadata": {
        "colab": {
          "base_uri": "https://localhost:8080/"
        },
        "id": "f93cc88f",
        "outputId": "a055a7c7-8954-4ef4-d694-2e7dbe039a5b"
      },
      "outputs": [
        {
          "name": "stderr",
          "output_type": "stream",
          "text": [
            "<ipython-input-45-23c330192443>:5: UserWarning: You are saving your model as an HDF5 file via `model.save()`. This file format is considered legacy. We recommend using instead the native Keras format, e.g. `model.save('my_model.keras')`.\n",
            "  tf.keras.models.save_model(model_for_export, pruned_keras_file, include_optimizer=False)\n",
            "WARNING:tensorflow:Compiled the loaded model, but the compiled metrics have yet to be built. `model.compile_metrics` will be empty until you train or evaluate the model.\n"
          ]
        },
        {
          "name": "stdout",
          "output_type": "stream",
          "text": [
            "Pruned model saved: /tmp/tmp_aghkn1f.h5\n"
          ]
        }
      ],
      "source": [
        "### ENTER CODE HERE\n",
        "# Export the model\n",
        "model_for_export = tfmot.sparsity.keras.strip_pruning(pruned_model)\n",
        "_, pruned_keras_file = tempfile.mkstemp('.h5')\n",
        "tf.keras.models.save_model(model_for_export, pruned_keras_file, include_optimizer=False)\n",
        "print(f'Pruned model saved: {keras_file}')"
      ]
    },
    {
      "cell_type": "markdown",
      "id": "a8ecc8f8",
      "metadata": {
        "id": "a8ecc8f8"
      },
      "source": [
        "### Compare the model sizes\n",
        "\n",
        "How much smaller is the pruned model size?"
      ]
    },
    {
      "cell_type": "code",
      "execution_count": 26,
      "id": "8f0ea5b8",
      "metadata": {
        "colab": {
          "base_uri": "https://localhost:8080/"
        },
        "id": "8f0ea5b8",
        "outputId": "0310c067-348a-40ee-f4a8-a39f715052fc"
      },
      "outputs": [
        {
          "name": "stdout",
          "output_type": "stream",
          "text": [
            "Reduction in Model Size (Number of Parameters): -454933\n"
          ]
        }
      ],
      "source": [
        "### ENTER CODE HERE\n",
        "# Calculate the reduction in model size (number of parameters)\n",
        "size_reduction = original_model_size - pruned_model_size\n",
        "print(\"Reduction in Model Size (Number of Parameters):\", size_reduction)"
      ]
    },
    {
      "cell_type": "markdown",
      "id": "d8aea625",
      "metadata": {
        "id": "d8aea625"
      },
      "source": [
        "## Combining Pruning with Quantization for more optimization\n",
        "It is possible to make the model even smaller by applying **quantization**.\n",
        "Adding quantization first requires you to add a TFLite converter. This converter converts your TensorFlow model into TensorFlow Lite equivalent, which is what quantization will run against. Converting the model into a Lite model allows us to specify a model optimizer - use the DEFAULT or dynamic range quantization for this exercise."
      ]
    },
    {
      "cell_type": "code",
      "execution_count": 34,
      "id": "eaa1861f",
      "metadata": {
        "colab": {
          "base_uri": "https://localhost:8080/"
        },
        "id": "eaa1861f",
        "outputId": "c5be53bc-9fc2-4404-a23c-5598490c5d59"
      },
      "outputs": [
        {
          "name": "stderr",
          "output_type": "stream",
          "text": [
            "WARNING:tensorflow:No training configuration found in the save file, so the model was *not* compiled. Compile it manually.\n"
          ]
        },
        {
          "name": "stdout",
          "output_type": "stream",
          "text": [
            "Quantized and pruned TensorFlow Lite model saved.\n"
          ]
        }
      ],
      "source": [
        "# Load the pruned model from the HDF5 file\n",
        "pruned_keras_file = '/tmp/tmp_aghkn1f.h5'\n",
        "pruned_model = tf.keras.models.load_model(pruned_keras_file)\n",
        "\n",
        "# Convert the pruned model to TensorFlow Lite format\n",
        "converter = tf.lite.TFLiteConverter.from_keras_model(pruned_model)\n",
        "tflite_model = converter.convert()\n",
        "\n",
        "# Apply quantization to the TensorFlow Lite model\n",
        "converter.optimizations = [tf.lite.Optimize.DEFAULT]\n",
        "quantized_and_pruned_tflite_model = converter.convert()\n",
        "\n",
        "# Save the quantized and pruned TensorFlow Lite model to a file\n",
        "with open('quantized_and_pruned_model.tflite', 'wb') as f:\n",
        "    f.write(quantized_and_pruned_tflite_model)\n",
        "\n",
        "print('Quantized and pruned TensorFlow Lite model saved.')\n"
      ]
    },
    {
      "cell_type": "code",
      "execution_count": 32,
      "id": "k7d2sDNGJdpc",
      "metadata": {
        "colab": {
          "base_uri": "https://localhost:8080/"
        },
        "id": "k7d2sDNGJdpc",
        "outputId": "cd45e45b-b724-4bc2-fbd3-d1a30486033f"
      },
      "outputs": [
        {
          "name": "stdout",
          "output_type": "stream",
          "text": [
            "Accuracy: 0.9034\n"
          ]
        }
      ],
      "source": [
        "import tensorflow as tf\n",
        "\n",
        "# Load the quantized and pruned TensorFlow Lite model\n",
        "interpreter = tf.lite.Interpreter(model_path='/content/quantized_and_pruned_model.tflite')\n",
        "interpreter.allocate_tensors()\n",
        "\n",
        "# Get input and output tensors\n",
        "input_details = interpreter.get_input_details()\n",
        "output_details = interpreter.get_output_details()\n",
        "\n",
        "# Load your test data and labels\n",
        "# Perform inference on the test data\n",
        "correct = 0\n",
        "total = len(X_test)\n",
        "for i in range(total):\n",
        "    input_data = X_test[i].reshape(input_details[0]['shape'])\n",
        "    interpreter.set_tensor(input_details[0]['index'], input_data)\n",
        "    interpreter.invoke()\n",
        "    output_data = interpreter.get_tensor(output_details[0]['index'])\n",
        "    predicted_label = tf.argmax(output_data, axis=1)[0]\n",
        "    true_label = tf.argmax(y_test[i], axis=0)\n",
        "    if predicted_label == true_label:\n",
        "        correct += 1\n",
        "\n",
        "# Calculate accuracy\n",
        "accuracy = correct / total\n",
        "print('Accuracy:', accuracy)\n"
      ]
    },
    {
      "cell_type": "code",
      "execution_count": 38,
      "id": "4Hqfc58XL4Sr",
      "metadata": {
        "colab": {
          "base_uri": "https://localhost:8080/"
        },
        "id": "4Hqfc58XL4Sr",
        "outputId": "bad7f875-9166-4b9f-d8e9-0f3b5a263b91"
      },
      "outputs": [
        {
          "name": "stdout",
          "output_type": "stream",
          "text": [
            "Quantized Model Size (Number of Parameters): tf.Tensor(695928, shape=(), dtype=int32)\n"
          ]
        }
      ],
      "source": [
        "import tensorflow as tf\n",
        "\n",
        "# Load the quantized and pruned TensorFlow Lite model\n",
        "interpreter = tf.lite.Interpreter(model_path='/content/quantized_and_pruned_model.tflite')\n",
        "interpreter.allocate_tensors()\n",
        "\n",
        "# Get the total number of parameters in the quantized model\n",
        "quantized_model_size = 0\n",
        "for tensor in interpreter.get_tensor_details():\n",
        "    shape = tensor['shape']\n",
        "    dtype_size = tf.dtypes.as_dtype(tensor['dtype']).size\n",
        "    tensor_size = tf.reduce_prod(shape) * dtype_size\n",
        "    quantized_model_size += tensor_size\n",
        "\n",
        "print(\"Quantized Model Size (Number of Parameters):\", quantized_model_size)"
      ]
    },
    {
      "cell_type": "markdown",
      "id": "d7136840",
      "metadata": {
        "id": "d7136840"
      },
      "source": [
        " ### Discuss you results:  How smaller are the model sizes?\n",
        "\n",
        "What are the model sizes?\n",
        "- What is the size improvement for original --> pruning ?\n",
        "- What is the size improvement for pruning --> quantization?\n",
        "- What is the total size improvement for pruning + quantization?\n",
        "\n",
        "What are the differences in model accuracies?\n",
        "- Original model accuracy?\n",
        "- Pruned model accuracy?\n",
        "- Pruned and Quantized model accuracy?"
      ]
    },
    {
      "cell_type": "markdown",
      "id": "c3cf95f7",
      "metadata": {
        "id": "c3cf95f7"
      },
      "source": [
        "Sure, here's a rephrased version:\n",
        "\n",
        "1. **Model Sizes**:\n",
        "   - The original model comprises 455,382 parameters.\n",
        "   - After pruning, the model size increases to 910,315 parameters.\n",
        "   - Applying quantization to the pruned model reduces its size to 695,928 parameters.\n",
        "\n",
        "2. **Size Improvements**:\n",
        "   - Pruning reduces the size of the original model by 454,933 parameters.\n",
        "   - Further applying quantization to the pruned model results in an additional reduction of 214,387 parameters.\n",
        "   - Overall, combining pruning and quantization reduces the size of the original model by 240,546 parameters.\n",
        "\n",
        "3. **Model Accuracies**:\n",
        "   - The accuracy of the pruned model slightly improves compared to the original model, achieving an accuracy of 0.9110.\n",
        "   - However, the accuracy decreases when quantization is applied to the pruned model, resulting in an accuracy of 0.9034.\n",
        "\n",
        "4. **Discussion**:\n",
        "   - Pruning effectively reduces the model size without significantly impacting accuracy, showcasing its usefulness in model optimization.\n",
        "   - Quantization further reduces the model size but comes at the cost of a slight decrease in accuracy.\n",
        "   - While the combined approach of pruning and quantization achieves substantial size reduction, maintaining or improving accuracy remains crucial for model performance, suggesting a need for fine-tuning in the quantization process.*Include you final comments here*"
      ]
    },
    {
      "cell_type": "markdown",
      "id": "47e81d3a",
      "metadata": {
        "id": "47e81d3a"
      },
      "source": [
        "### Discuss what other pruning strategies you could try for the original model?\n",
        "#### Can you show any code to demonstate this and discuss/compare the results further?"
      ]
    },
    {
      "cell_type": "code",
      "execution_count": 54,
      "id": "7f6be80d",
      "metadata": {
        "colab": {
          "base_uri": "https://localhost:8080/"
        },
        "id": "7f6be80d",
        "outputId": "0fb2d2e8-98c7-4063-9960-aaca03d52b4b"
      },
      "outputs": [
        {
          "name": "stdout",
          "output_type": "stream",
          "text": [
            "Epoch 1/8\n",
            "1329/1329 [==============================] - 17s 9ms/step - loss: 0.0511 - accuracy: 0.9847 - val_loss: 0.0276 - val_accuracy: 0.9899\n",
            "Epoch 2/8\n",
            "1329/1329 [==============================] - 11s 8ms/step - loss: 0.0233 - accuracy: 0.9920 - val_loss: 0.0527 - val_accuracy: 0.9831\n",
            "Epoch 3/8\n",
            "1329/1329 [==============================] - 11s 8ms/step - loss: 0.0168 - accuracy: 0.9939 - val_loss: 0.0208 - val_accuracy: 0.9924\n",
            "Epoch 4/8\n",
            "1329/1329 [==============================] - 10s 8ms/step - loss: 0.0074 - accuracy: 0.9976 - val_loss: 0.0326 - val_accuracy: 0.9911\n",
            "Epoch 5/8\n",
            "1329/1329 [==============================] - 12s 9ms/step - loss: 0.0123 - accuracy: 0.9960 - val_loss: 0.0350 - val_accuracy: 0.9889\n",
            "Epoch 6/8\n",
            "1329/1329 [==============================] - 11s 8ms/step - loss: 0.0078 - accuracy: 0.9972 - val_loss: 0.0402 - val_accuracy: 0.9852\n",
            "Epoch 7/8\n",
            "1329/1329 [==============================] - 12s 9ms/step - loss: 0.0082 - accuracy: 0.9973 - val_loss: 0.0198 - val_accuracy: 0.9920\n",
            "Epoch 8/8\n",
            "1329/1329 [==============================] - 12s 9ms/step - loss: 0.0054 - accuracy: 0.9983 - val_loss: 0.0738 - val_accuracy: 0.9807\n"
          ]
        },
        {
          "data": {
            "text/plain": [
              "<keras.src.callbacks.History at 0x7a44244baa10>"
            ]
          },
          "execution_count": 54,
          "metadata": {},
          "output_type": "execute_result"
        }
      ],
      "source": [
        "### Insert any code here\n",
        "# Define the parameters for pruning\n",
        "pruning_epochs = 8  # Increase the number of pruning epochs\n",
        "validation_split = 0.15  # Change the validation split percentage\n",
        "initial_sparsity = 0.40  # Change the initial sparsity\n",
        "final_sparsity = 0.75  # Change the final sparsity\n",
        "\n",
        "# Compute the end_step of the pruning process using the updated parameters\n",
        "num_images = len(X_train) * (1 - validation_split)\n",
        "end_step = np.ceil(num_images / batch_size).astype(np.int32) * pruning_epochs\n",
        "\n",
        "# Define pruning parameters\n",
        "pruning_params_1 = {\n",
        "    'pruning_schedule': tfmot.sparsity.keras.PolynomialDecay(\n",
        "        initial_sparsity=initial_sparsity,\n",
        "        final_sparsity=final_sparsity,\n",
        "        begin_step=0,\n",
        "        end_step=end_step\n",
        "    )\n",
        "}\n",
        "\n",
        "# Apply pruning to the model\n",
        "pruned_model_1 = tfmot.sparsity.keras.prune_low_magnitude(model, **pruning_params_1)\n",
        "\n",
        "callbacks = [\n",
        "    tfmot.sparsity.keras.UpdatePruningStep()\n",
        "]\n",
        "\n",
        "# Compile the pruned model\n",
        "pruned_model_1.compile(optimizer='adam',\n",
        "                     loss='categorical_crossentropy',\n",
        "                     metrics=['accuracy'])\n",
        "\n",
        "# Train the pruned model\n",
        "pruned_model_1.fit(X_train, y_train,\n",
        "                 epochs=pruning_epochs,\n",
        "                 validation_split=validation_split,\n",
        "                  callbacks = callbacks)\n"
      ]
    },
    {
      "cell_type": "markdown",
      "id": "Gt1fuuyVRxZH",
      "metadata": {
        "id": "Gt1fuuyVRxZH"
      },
      "source": [
        "In this new model, pruning is applied to the original neural network model using TensorFlow Model Optimization's pruning API. The parameters for the pruning process are carefully defined to optimize the sparsity level of the model. Specifically, `pruning_epochs` is set to 8, indicating the number of pruning epochs to be performed during training. A `validation_split` of 0.15 is chosen, determining the proportion of the training data reserved for validation. Moreover, the initial sparsity level (`initial_sparsity`) is set to 0.40, while the final sparsity level (`final_sparsity`) is configured to be 0.75. These parameters dictate the progression of sparsity throughout the pruning process. By computing the `end_step` based on the number of training images and the validation split, the pruning process is scheduled to conclude appropriately. The `pruning_params_1` encapsulates these parameters using a `PolynomialDecay` schedule, tailored to control the sparsity dynamics. Subsequently, the model undergoes pruning using the defined parameters, facilitated by TensorFlow's pruning functionality. Callbacks, including the `UpdatePruningStep`, are integrated to ensure dynamic pruning updates during training. Finally, the pruned model is compiled and trained on the dataset, leveraging the specified parameters and callbacks to refine its structure effectively. Adjustments to these parameters can be made to tailor the pruning process to specific model requirements and optimization goals."
      ]
    },
    {
      "cell_type": "code",
      "execution_count": null,
      "id": "vUhyh7XKR2OV",
      "metadata": {
        "id": "vUhyh7XKR2OV"
      },
      "outputs": [],
      "source": []
    }
  ],
  "metadata": {
    "accelerator": "GPU",
    "colab": {
      "gpuType": "T4",
      "provenance": []
    },
    "kernelspec": {
      "display_name": "Python 3",
      "name": "python3"
    },
    "language_info": {
      "codemirror_mode": {
        "name": "ipython",
        "version": 3
      },
      "file_extension": ".py",
      "mimetype": "text/x-python",
      "name": "python",
      "nbconvert_exporter": "python",
      "pygments_lexer": "ipython3",
      "version": "3.11.5"
    }
  },
  "nbformat": 4,
  "nbformat_minor": 5
}
